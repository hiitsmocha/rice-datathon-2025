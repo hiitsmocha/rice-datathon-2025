{
 "cells": [
  {
   "cell_type": "code",
   "execution_count": 10,
   "metadata": {},
   "outputs": [],
   "source": [
    "import pandas as pd\n",
    "import numpy as np\n",
    "\n",
    "data = pd.read_csv(\"scoring.csv\")"
   ]
  },
  {
   "cell_type": "code",
   "execution_count": 12,
   "metadata": {},
   "outputs": [
    {
     "name": "stdout",
     "output_type": "stream",
     "text": [
      "Date                                                   int64\n",
      "Vehicle Category                                      object\n",
      "GVWR Class                                            object\n",
      "Fuel Type                                             object\n",
      "Model Year                                           float64\n",
      "Fuel Technology                                       object\n",
      "Electric Mile Range                                   object\n",
      "Number of Vehicles Registered at the Same Address     object\n",
      "Region                                                object\n",
      "Vehicle Population                                     int64\n",
      "dtype: object\n"
     ]
    }
   ],
   "source": [
    "df = pd.DataFrame(data)\n",
    "df.drop_duplicates()\n",
    "print(df.dtypes)"
   ]
  },
  {
   "cell_type": "code",
   "execution_count": 13,
   "metadata": {},
   "outputs": [
    {
     "name": "stdout",
     "output_type": "stream",
     "text": [
      "Total missing 'Model Year' values: 106\n"
     ]
    }
   ],
   "source": [
    "missing_model_year = df[\"Model Year\"].isna().sum()\n",
    "print(f\"Total missing 'Model Year' values: {missing_model_year}\")"
   ]
  },
  {
   "cell_type": "code",
   "execution_count": 16,
   "metadata": {},
   "outputs": [],
   "source": [
    "df = df.dropna(subset=[\"Model Year\"]).sort_values(by=\"Date\", ascending=True).reset_index(drop=True)\n",
    "df[\"Model Year\"] = df[\"Model Year\"].astype(int)"
   ]
  },
  {
   "cell_type": "code",
   "execution_count": 32,
   "metadata": {},
   "outputs": [],
   "source": [
    "df = df.drop(columns= \"Region\", axis = 1)"
   ]
  },
  {
   "cell_type": "code",
   "execution_count": 30,
   "metadata": {},
   "outputs": [],
   "source": [
    "categorical_cols = [\"Vehicle Category\", \"Fuel Type\", \"Fuel Technology\", \"Electric Mile Range\"]\n",
    "for col in categorical_cols:\n",
    "    df[col] = df[col].astype(\"category\")"
   ]
  },
  {
   "cell_type": "code",
   "execution_count": 33,
   "metadata": {},
   "outputs": [
    {
     "data": {
      "text/plain": [
       "Date                                                    int64\n",
       "Vehicle Category                                     category\n",
       "GVWR Class                                             object\n",
       "Fuel Type                                            category\n",
       "Model Year                                              int64\n",
       "Fuel Technology                                      category\n",
       "Electric Mile Range                                  category\n",
       "Number of Vehicles Registered at the Same Address      object\n",
       "Vehicle Population                                      int64\n",
       "dtype: object"
      ]
     },
     "execution_count": 33,
     "metadata": {},
     "output_type": "execute_result"
    }
   ],
   "source": [
    "df.dtypes"
   ]
  },
  {
   "cell_type": "code",
   "execution_count": 34,
   "metadata": {},
   "outputs": [
    {
     "data": {
      "text/plain": [
       "array([\"'≥4'\", \"'1'\", \"'2'\", \"'3'\"], dtype=object)"
      ]
     },
     "execution_count": 34,
     "metadata": {},
     "output_type": "execute_result"
    }
   ],
   "source": [
    "df[\"Number of Vehicles Registered at the Same Address\"].apply(lambda x: repr(x)).unique()"
   ]
  },
  {
   "cell_type": "code",
   "execution_count": 35,
   "metadata": {},
   "outputs": [],
   "source": [
    "df[\"Number of Vehicles Registered at the Same Address\"] = df[\"Number of Vehicles Registered at the Same Address\"].replace({'1': 1, '2': 2, '3': 3, \"\\u22654\": 4, \"Unknown\": -1})\n",
    "\n",
    "df[\"GVWR Class\"] = df[\"GVWR Class\"].replace({\"Not Applicable\": -1, \"Unknown\": -1})"
   ]
  },
  {
   "cell_type": "code",
   "execution_count": 36,
   "metadata": {},
   "outputs": [
    {
     "data": {
      "text/plain": [
       "Date                                                 0\n",
       "Vehicle Category                                     0\n",
       "GVWR Class                                           0\n",
       "Fuel Type                                            0\n",
       "Model Year                                           0\n",
       "Fuel Technology                                      0\n",
       "Electric Mile Range                                  0\n",
       "Number of Vehicles Registered at the Same Address    0\n",
       "Vehicle Population                                   0\n",
       "dtype: int64"
      ]
     },
     "execution_count": 36,
     "metadata": {},
     "output_type": "execute_result"
    }
   ],
   "source": [
    "df.isnull().sum()"
   ]
  },
  {
   "cell_type": "code",
   "execution_count": 38,
   "metadata": {},
   "outputs": [],
   "source": [
    "df.to_csv(\"scoring_cleaned_data.csv\", index=False)"
   ]
  },
  {
   "cell_type": "code",
   "execution_count": null,
   "metadata": {},
   "outputs": [],
   "source": []
  }
 ],
 "metadata": {
  "kernelspec": {
   "display_name": "venv",
   "language": "python",
   "name": "python3"
  },
  "language_info": {
   "name": "python",
   "version": "3.13.1"
  }
 },
 "nbformat": 4,
 "nbformat_minor": 2
}
