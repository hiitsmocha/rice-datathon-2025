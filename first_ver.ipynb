{
 "cells": [
  {
   "cell_type": "code",
   "execution_count": 1,
   "metadata": {},
   "outputs": [],
   "source": [
    "import pandas as pd\n",
    "import numpy as np\n",
    "import seaborn as sns\n",
    "\n",
    "from sklearn.model_selection import train_test_split\n",
    "from sklearn.ensemble import RandomForestRegressor, GradientBoostingRegressor\n",
    "from sklearn.metrics import mean_absolute_error, mean_squared_error, r2_score\n",
    "\n",
    "import warnings\n",
    "warnings.filterwarnings(\"ignore\")\n",
    "\n",
    "sns.set_style(\"whitegrid\")"
   ]
  },
  {
   "cell_type": "code",
   "execution_count": 2,
   "metadata": {},
   "outputs": [
    {
     "name": "stdout",
     "output_type": "stream",
     "text": [
      "<class 'pandas.core.frame.DataFrame'>\n",
      "RangeIndex: 40450 entries, 0 to 40449\n",
      "Data columns (total 11 columns):\n",
      " #   Column                                             Non-Null Count  Dtype \n",
      "---  ------                                             --------------  ----- \n",
      " 0   Unnamed: 0                                         40450 non-null  int64 \n",
      " 1   Date                                               40450 non-null  int64 \n",
      " 2   Vehicle Category                                   40450 non-null  object\n",
      " 3   GVWR Class                                         40450 non-null  object\n",
      " 4   Fuel Type                                          40450 non-null  object\n",
      " 5   Model Year                                         40450 non-null  int64 \n",
      " 6   Fuel Technology                                    40450 non-null  object\n",
      " 7   Electric Mile Range                                40450 non-null  object\n",
      " 8   Number of Vehicles Registered at the Same Address  40450 non-null  object\n",
      " 9   Region                                             40450 non-null  object\n",
      " 10  Vehicle Population                                 40450 non-null  int64 \n",
      "dtypes: int64(4), object(7)\n",
      "memory usage: 3.4+ MB\n"
     ]
    }
   ],
   "source": [
    "df = pd.read_csv(\"cleaned_data.csv\")\n",
    "df.info()"
   ]
  },
  {
   "cell_type": "code",
   "execution_count": 4,
   "metadata": {},
   "outputs": [],
   "source": [
    "df = df.drop(columns=\"Region\", axis = 1)"
   ]
  },
  {
   "cell_type": "code",
   "execution_count": null,
   "metadata": {},
   "outputs": [],
   "source": [
    "df[\"Vehicle Category\"] = "
   ]
  }
 ],
 "metadata": {
  "kernelspec": {
   "display_name": "venv",
   "language": "python",
   "name": "python3"
  },
  "language_info": {
   "codemirror_mode": {
    "name": "ipython",
    "version": 3
   },
   "file_extension": ".py",
   "mimetype": "text/x-python",
   "name": "python",
   "nbconvert_exporter": "python",
   "pygments_lexer": "ipython3",
   "version": "3.13.1"
  }
 },
 "nbformat": 4,
 "nbformat_minor": 2
}
