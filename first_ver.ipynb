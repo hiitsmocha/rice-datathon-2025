{
 "cells": [
  {
   "cell_type": "code",
   "execution_count": 1,
   "metadata": {},
   "outputs": [],
   "source": [
    "import pandas as pd\n",
    "import numpy as np\n",
    "import seaborn as sns\n",
    "\n",
    "from sklearn.model_selection import train_test_split\n",
    "from sklearn.ensemble import RandomForestRegressor, GradientBoostingRegressor\n",
    "from sklearn.metrics import mean_absolute_error, mean_squared_error, r2_score\n",
    "\n",
    "import warnings\n",
    "warnings.filterwarnings(\"ignore\")\n",
    "\n",
    "sns.set_style(\"whitegrid\")"
   ]
  },
  {
   "cell_type": "markdown",
   "metadata": {},
   "source": [
    "Assuming we have a somewhat cleaned dataset (removing Model Year missing values), sort by year,..."
   ]
  },
  {
   "cell_type": "code",
   "execution_count": 2,
   "metadata": {},
   "outputs": [
    {
     "name": "stdout",
     "output_type": "stream",
     "text": [
      "<class 'pandas.core.frame.DataFrame'>\n",
      "RangeIndex: 40450 entries, 0 to 40449\n",
      "Data columns (total 11 columns):\n",
      " #   Column                                             Non-Null Count  Dtype \n",
      "---  ------                                             --------------  ----- \n",
      " 0   Unnamed: 0                                         40450 non-null  int64 \n",
      " 1   Date                                               40450 non-null  int64 \n",
      " 2   Vehicle Category                                   40450 non-null  object\n",
      " 3   GVWR Class                                         40450 non-null  object\n",
      " 4   Fuel Type                                          40450 non-null  object\n",
      " 5   Model Year                                         40450 non-null  int64 \n",
      " 6   Fuel Technology                                    40450 non-null  object\n",
      " 7   Electric Mile Range                                40450 non-null  object\n",
      " 8   Number of Vehicles Registered at the Same Address  40450 non-null  object\n",
      " 9   Region                                             40450 non-null  object\n",
      " 10  Vehicle Population                                 40450 non-null  int64 \n",
      "dtypes: int64(4), object(7)\n",
      "memory usage: 3.4+ MB\n"
     ]
    }
   ],
   "source": [
    "df = pd.read_csv(\"cleaned_data.csv\")\n",
    "df.info()"
   ]
  },
  {
   "cell_type": "code",
   "execution_count": 3,
   "metadata": {},
   "outputs": [],
   "source": [
    "df = df.drop(columns=\"Region\", axis = 1)"
   ]
  },
  {
   "cell_type": "markdown",
   "metadata": {},
   "source": [
    "## Data Wrangling"
   ]
  },
  {
   "cell_type": "code",
   "execution_count": 4,
   "metadata": {},
   "outputs": [],
   "source": [
    "categorical_cols = [\"Vehicle Category\", \"Fuel Type\", \"Fuel Technology\", \"Electric Mile Range\"]\n",
    "for col in categorical_cols:\n",
    "    df[col] = df[col].astype(\"category\")"
   ]
  },
  {
   "cell_type": "code",
   "execution_count": 5,
   "metadata": {},
   "outputs": [
    {
     "data": {
      "text/plain": [
       "Unnamed: 0                                              int64\n",
       "Date                                                    int64\n",
       "Vehicle Category                                     category\n",
       "GVWR Class                                             object\n",
       "Fuel Type                                            category\n",
       "Model Year                                              int64\n",
       "Fuel Technology                                      category\n",
       "Electric Mile Range                                  category\n",
       "Number of Vehicles Registered at the Same Address      object\n",
       "Vehicle Population                                      int64\n",
       "dtype: object"
      ]
     },
     "execution_count": 5,
     "metadata": {},
     "output_type": "execute_result"
    }
   ],
   "source": [
    "df.dtypes"
   ]
  },
  {
   "cell_type": "code",
   "execution_count": 6,
   "metadata": {},
   "outputs": [
    {
     "data": {
      "text/plain": [
       "array([\"'≥4'\", \"'1'\", \"'2'\", \"'3'\", \"'Unknown'\"], dtype=object)"
      ]
     },
     "execution_count": 6,
     "metadata": {},
     "output_type": "execute_result"
    }
   ],
   "source": [
    "df[\"Number of Vehicles Registered at the Same Address\"].apply(lambda x: repr(x)).unique()\n"
   ]
  },
  {
   "cell_type": "code",
   "execution_count": 7,
   "metadata": {},
   "outputs": [],
   "source": [
    "# import unicodedata\n",
    "\n",
    "# ordinal_mapping = {'1': int(1), '2': int(2), '3': int(3), unicodedata.name(\"\\u03C0\"): int(4), \"Unknown\": int(-1)}\n",
    "\n",
    "# df[\"Number of Vehicles Registered at the Same Address\"] = df[\"Number of Vehicles Registered at the Same Address\"].astype(str).map(ordinal_mapping)"
   ]
  },
  {
   "cell_type": "code",
   "execution_count": 8,
   "metadata": {},
   "outputs": [],
   "source": [
    "df[\"Number of Vehicles Registered at the Same Address\"] = df[\"Number of Vehicles Registered at the Same Address\"].replace({'1': 1, '2': 2, '3': 3, \"\\u22654\": 4, \"Unknown\": -1})\n",
    "\n",
    "df[\"GVWR Class\"] = df[\"GVWR Class\"].replace({\"Not Applicable\": -1, \"Unknown\": -1})"
   ]
  },
  {
   "cell_type": "code",
   "execution_count": 9,
   "metadata": {},
   "outputs": [
    {
     "data": {
      "text/plain": [
       "Unnamed: 0                                           0\n",
       "Date                                                 0\n",
       "Vehicle Category                                     0\n",
       "GVWR Class                                           0\n",
       "Fuel Type                                            0\n",
       "Model Year                                           0\n",
       "Fuel Technology                                      0\n",
       "Electric Mile Range                                  0\n",
       "Number of Vehicles Registered at the Same Address    0\n",
       "Vehicle Population                                   0\n",
       "dtype: int64"
      ]
     },
     "execution_count": 9,
     "metadata": {},
     "output_type": "execute_result"
    }
   ],
   "source": [
    "df.isnull().sum()"
   ]
  },
  {
   "cell_type": "code",
   "execution_count": 10,
   "metadata": {},
   "outputs": [
    {
     "name": "stdout",
     "output_type": "stream",
     "text": [
      "<class 'pandas.core.frame.DataFrame'>\n",
      "RangeIndex: 40450 entries, 0 to 40449\n",
      "Data columns (total 10 columns):\n",
      " #   Column                                             Non-Null Count  Dtype   \n",
      "---  ------                                             --------------  -----   \n",
      " 0   Unnamed: 0                                         40450 non-null  int64   \n",
      " 1   Date                                               40450 non-null  int64   \n",
      " 2   Vehicle Category                                   40450 non-null  category\n",
      " 3   GVWR Class                                         40450 non-null  object  \n",
      " 4   Fuel Type                                          40450 non-null  category\n",
      " 5   Model Year                                         40450 non-null  int64   \n",
      " 6   Fuel Technology                                    40450 non-null  category\n",
      " 7   Electric Mile Range                                40450 non-null  category\n",
      " 8   Number of Vehicles Registered at the Same Address  40450 non-null  int64   \n",
      " 9   Vehicle Population                                 40450 non-null  int64   \n",
      "dtypes: category(4), int64(5), object(1)\n",
      "memory usage: 2.0+ MB\n"
     ]
    }
   ],
   "source": [
    "df.info()"
   ]
  },
  {
   "cell_type": "code",
   "execution_count": 14,
   "metadata": {},
   "outputs": [],
   "source": [
    "from sklearn.model_selection import train_test_split\n",
    "\n",
    "# Separate the feature and the target\n",
    "X = df.drop(columns= \"Vehicle Population\")\n",
    "y = df[\"Vehicle Population\"]\n",
    "\n",
    "X_train, X_test, y_train, y_test = train_test_split(X, y, test_size=0.2, random_state=42)"
   ]
  },
  {
   "cell_type": "markdown",
   "metadata": {},
   "source": [
    "# Build a pipeline of training"
   ]
  },
  {
   "cell_type": "code",
   "execution_count": 17,
   "metadata": {},
   "outputs": [],
   "source": [
    "from sklearn.pipeline import Pipeline\n",
    "from category_encoders.target_encoder import TargetEncoder\n",
    "from xgboost import XGBClassifier"
   ]
  },
  {
   "cell_type": "code",
   "execution_count": 19,
   "metadata": {},
   "outputs": [],
   "source": [
    "estimators = ['encoder', TargetEncoder(), 'clf', XGBClassifier(random_state = 42)]\n",
    "\n",
    "pipe = Pipeline(steps = estimators)"
   ]
  }
 ],
 "metadata": {
  "kernelspec": {
   "display_name": "venv",
   "language": "python",
   "name": "python3"
  },
  "language_info": {
   "codemirror_mode": {
    "name": "ipython",
    "version": 3
   },
   "file_extension": ".py",
   "mimetype": "text/x-python",
   "name": "python",
   "nbconvert_exporter": "python",
   "pygments_lexer": "ipython3",
   "version": "3.13.1"
  }
 },
 "nbformat": 4,
 "nbformat_minor": 2
}
