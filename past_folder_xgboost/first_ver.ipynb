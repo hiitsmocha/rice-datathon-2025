{
 "cells": [
  {
   "cell_type": "code",
   "execution_count": 60,
   "metadata": {},
   "outputs": [],
   "source": [
    "import pandas as pd\n",
    "import numpy as np\n",
    "import seaborn as sns\n",
    "\n",
    "import warnings\n",
    "warnings.filterwarnings(\"ignore\")\n",
    "\n",
    "sns.set_style(\"whitegrid\")"
   ]
  },
  {
   "cell_type": "code",
   "execution_count": 63,
   "metadata": {},
   "outputs": [],
   "source": [
    "data = pd.read_csv(\"training_data.csv\")\n",
    "df = pd.DataFrame(data)\n",
    "df.drop_duplicates()\n",
    "missing_model_year = df[\"Model Year\"].isna().sum()\n",
    "df = df.dropna(subset=[\"Model Year\"]).sort_values(by=\"Date\", ascending=True).reset_index(drop=True)\n",
    "df[\"Model Year\"] = df[\"Model Year\"].astype(int)"
   ]
  },
  {
   "cell_type": "markdown",
   "metadata": {},
   "source": [
    "Assuming we have a somewhat cleaned dataset (removing Model Year missing values), sort by year,..."
   ]
  },
  {
   "cell_type": "code",
   "execution_count": 64,
   "metadata": {},
   "outputs": [],
   "source": [
    "df = df.drop(columns=\"Region\", axis = 1)"
   ]
  },
  {
   "cell_type": "markdown",
   "metadata": {},
   "source": [
    "## Data Wrangling"
   ]
  },
  {
   "cell_type": "code",
   "execution_count": 65,
   "metadata": {},
   "outputs": [],
   "source": [
    "categorical_cols = [\"Vehicle Category\", \"Fuel Type\", \"Fuel Technology\", \"Electric Mile Range\"]\n",
    "for col in categorical_cols:\n",
    "    df[col] = df[col].astype(\"category\")\n",
    "    "
   ]
  },
  {
   "cell_type": "code",
   "execution_count": 66,
   "metadata": {},
   "outputs": [
    {
     "data": {
      "text/plain": [
       "Date                                                    int64\n",
       "Vehicle Category                                     category\n",
       "GVWR Class                                             object\n",
       "Fuel Type                                            category\n",
       "Model Year                                              int64\n",
       "Fuel Technology                                      category\n",
       "Electric Mile Range                                  category\n",
       "Number of Vehicles Registered at the Same Address      object\n",
       "Vehicle Population                                      int64\n",
       "dtype: object"
      ]
     },
     "execution_count": 66,
     "metadata": {},
     "output_type": "execute_result"
    }
   ],
   "source": [
    "df.dtypes"
   ]
  },
  {
   "cell_type": "code",
   "execution_count": 67,
   "metadata": {},
   "outputs": [
    {
     "data": {
      "text/plain": [
       "array([\"'≥4'\", \"'1'\", \"'2'\", \"'3'\", \"'Unknown'\"], dtype=object)"
      ]
     },
     "execution_count": 67,
     "metadata": {},
     "output_type": "execute_result"
    }
   ],
   "source": [
    "df[\"Number of Vehicles Registered at the Same Address\"].apply(lambda x: repr(x)).unique()\n"
   ]
  },
  {
   "cell_type": "code",
   "execution_count": 7,
   "metadata": {},
   "outputs": [],
   "source": [
    "# import unicodedata\n",
    "\n",
    "# ordinal_mapping = {'1': int(1), '2': int(2), '3': int(3), unicodedata.name(\"\\u03C0\"): int(4), \"Unknown\": int(-1)}\n",
    "\n",
    "# df[\"Number of Vehicles Registered at the Same Address\"] = df[\"Number of Vehicles Registered at the Same Address\"].astype(str).map(ordinal_mapping)"
   ]
  },
  {
   "cell_type": "code",
   "execution_count": 68,
   "metadata": {},
   "outputs": [],
   "source": [
    "df[\"Number of Vehicles Registered at the Same Address\"] = df[\"Number of Vehicles Registered at the Same Address\"].replace({'1': 1, '2': 2, '3': 3, \"\\u22654\": 4, \"Unknown\": -1})\n",
    "\n",
    "df[\"GVWR Class\"] = df[\"GVWR Class\"].replace({\"Not Applicable\": -1, \"Unknown\": -1})"
   ]
  },
  {
   "cell_type": "code",
   "execution_count": 69,
   "metadata": {},
   "outputs": [
    {
     "data": {
      "text/plain": [
       "Date                                                 0\n",
       "Vehicle Category                                     0\n",
       "GVWR Class                                           0\n",
       "Fuel Type                                            0\n",
       "Model Year                                           0\n",
       "Fuel Technology                                      0\n",
       "Electric Mile Range                                  0\n",
       "Number of Vehicles Registered at the Same Address    0\n",
       "Vehicle Population                                   0\n",
       "dtype: int64"
      ]
     },
     "execution_count": 69,
     "metadata": {},
     "output_type": "execute_result"
    }
   ],
   "source": [
    "df.isnull().sum()"
   ]
  },
  {
   "cell_type": "code",
   "execution_count": 70,
   "metadata": {},
   "outputs": [
    {
     "name": "stdout",
     "output_type": "stream",
     "text": [
      "<class 'pandas.core.frame.DataFrame'>\n",
      "RangeIndex: 40450 entries, 0 to 40449\n",
      "Data columns (total 9 columns):\n",
      " #   Column                                             Non-Null Count  Dtype   \n",
      "---  ------                                             --------------  -----   \n",
      " 0   Date                                               40450 non-null  int64   \n",
      " 1   Vehicle Category                                   40450 non-null  category\n",
      " 2   GVWR Class                                         40450 non-null  object  \n",
      " 3   Fuel Type                                          40450 non-null  category\n",
      " 4   Model Year                                         40450 non-null  int64   \n",
      " 5   Fuel Technology                                    40450 non-null  category\n",
      " 6   Electric Mile Range                                40450 non-null  category\n",
      " 7   Number of Vehicles Registered at the Same Address  40450 non-null  int64   \n",
      " 8   Vehicle Population                                 40450 non-null  int64   \n",
      "dtypes: category(4), int64(4), object(1)\n",
      "memory usage: 1.7+ MB\n"
     ]
    }
   ],
   "source": [
    "df.info()"
   ]
  },
  {
   "cell_type": "code",
   "execution_count": 71,
   "metadata": {},
   "outputs": [],
   "source": [
    "from sklearn.model_selection import train_test_split\n",
    "\n",
    "# Separate the feature and the target\n",
    "X = df.drop(columns= \"Vehicle Population\")\n",
    "y = df[\"Vehicle Population\"]\n",
    "\n",
    "X_train, X_test, y_train, y_test = train_test_split(X, y, test_size=0.2, random_state=42)"
   ]
  },
  {
   "cell_type": "markdown",
   "metadata": {},
   "source": [
    "# Build a pipeline of training"
   ]
  },
  {
   "cell_type": "code",
   "execution_count": 72,
   "metadata": {},
   "outputs": [],
   "source": [
    "from sklearn.pipeline import Pipeline\n",
    "from category_encoders.target_encoder import TargetEncoder\n",
    "from xgboost import XGBRegressor"
   ]
  },
  {
   "cell_type": "code",
   "execution_count": 73,
   "metadata": {},
   "outputs": [],
   "source": [
    "categorical_features = [\"Vehicle Category\", \"Fuel Type\", \"Fuel Technology\", \"Electric Mile Range\"]\n",
    "estimators = [\n",
    "    ('encoder', TargetEncoder(cols=categorical_features)),  # Encode categorical features only\n",
    "    ('clf', XGBRegressor(random_state=42))\n",
    "]\n",
    "\n",
    "pipe = Pipeline(steps = estimators)"
   ]
  },
  {
   "cell_type": "markdown",
   "metadata": {},
   "source": [
    "# Set up hyper parameter tuning "
   ]
  },
  {
   "cell_type": "code",
   "execution_count": 74,
   "metadata": {},
   "outputs": [],
   "source": [
    "# from skopt import BayesSearchCV\n",
    "# from skopt.space import Real, Integer\n",
    "\n",
    "# search_space = {\n",
    "#     'clf__max_depth': Integer(3, 8),  # Keep tree depth moderate\n",
    "#     'clf__learning_rate': Real(0.02, 0.2, prior='log-uniform'),  # Not too slow, not too fast\n",
    "#     'clf__n_estimators': Integer(100, 500),  # Limit the number of trees to balance performance\n",
    "#     'clf__subsample': Real(0.6, 0.9),  # Randomly sample data to prevent overfitting\n",
    "#     'clf__colsample_bytree': Real(0.5, 0.8),  # Use only a subset of features per tree\n",
    "#     'clf__colsample_bylevel': Real(0.5, 0.8),\n",
    "#     'clf__colsample_bynode': Real(0.5, 0.8),\n",
    "#     'clf__reg_alpha': Real(0.01, 2.0),  # Light L1 regularization\n",
    "#     'clf__reg_lambda': Real(0.1, 5.0),  # Mild L2 regularization\n",
    "#     'clf__gamma': Real(0.0, 5.0)  # Prevent excessive tree splits\n",
    "# }\n",
    "\n",
    "# opt = BayesSearchCV(\n",
    "#     estimator=pipe,\n",
    "#     search_spaces=search_space,\n",
    "#     cv=5,  # More cross-validation folds for stability\n",
    "#     n_iter=20,  # Optimize in 20 rounds (higher = better)\n",
    "#     scoring='neg_root_mean_squared_error',  \n",
    "#     random_state=42\n",
    "# )"
   ]
  },
  {
   "cell_type": "code",
   "execution_count": 75,
   "metadata": {},
   "outputs": [],
   "source": [
    "col = 'GVWR Class'\n",
    "X_train[col] = X_train[col].astype(\"category\").cat.codes\n",
    "X_test[col] = X_test[col].astype(\"category\").cat.codes"
   ]
  },
  {
   "cell_type": "code",
   "execution_count": 76,
   "metadata": {},
   "outputs": [],
   "source": [
    "import pandas as pd\n",
    "import numpy as np\n",
    "import seaborn as sns\n",
    "\n",
    "from sklearn.model_selection import train_test_split\n",
    "from sklearn.ensemble import RandomForestRegressor, GradientBoostingRegressor\n",
    "from sklearn.metrics import mean_absolute_error, mean_squared_error, r2_score\n",
    "\n",
    "import warnings\n",
    "warnings.filterwarnings(\"ignore\")\n",
    "\n",
    "sns.set_style(\"whitegrid\")"
   ]
  },
  {
   "cell_type": "markdown",
   "metadata": {},
   "source": [
    "Assuming we have a somewhat cleaned dataset (removing Model Year missing values), sort by year,..."
   ]
  },
  {
   "cell_type": "code",
   "execution_count": 77,
   "metadata": {},
   "outputs": [
    {
     "name": "stdout",
     "output_type": "stream",
     "text": [
      "<class 'pandas.core.frame.DataFrame'>\n",
      "Index: 40450 entries, 0 to 40449\n",
      "Data columns (total 10 columns):\n",
      " #   Column                                             Non-Null Count  Dtype \n",
      "---  ------                                             --------------  ----- \n",
      " 0   Date                                               40450 non-null  int64 \n",
      " 1   Vehicle Category                                   40450 non-null  object\n",
      " 2   GVWR Class                                         40450 non-null  object\n",
      " 3   Fuel Type                                          40450 non-null  object\n",
      " 4   Model Year                                         40450 non-null  int64 \n",
      " 5   Fuel Technology                                    40450 non-null  object\n",
      " 6   Electric Mile Range                                40450 non-null  object\n",
      " 7   Number of Vehicles Registered at the Same Address  40450 non-null  object\n",
      " 8   Region                                             40450 non-null  object\n",
      " 9   Vehicle Population                                 40450 non-null  int64 \n",
      "dtypes: int64(3), object(7)\n",
      "memory usage: 3.4+ MB\n"
     ]
    }
   ],
   "source": [
    "df1 = pd.read_csv(\"cleaned_data.csv\", index_col=0)\n",
    "df1.info()"
   ]
  },
  {
   "cell_type": "code",
   "execution_count": 79,
   "metadata": {},
   "outputs": [
    {
     "ename": "KeyError",
     "evalue": "\"['Region'] not found in axis\"",
     "output_type": "error",
     "traceback": [
      "\u001b[0;31m---------------------------------------------------------------------------\u001b[0m",
      "\u001b[0;31mKeyError\u001b[0m                                  Traceback (most recent call last)",
      "Cell \u001b[0;32mIn[79], line 1\u001b[0m\n\u001b[0;32m----> 1\u001b[0m df1 \u001b[38;5;241m=\u001b[39m \u001b[43mdf1\u001b[49m\u001b[38;5;241;43m.\u001b[39;49m\u001b[43mdrop\u001b[49m\u001b[43m(\u001b[49m\u001b[43mcolumns\u001b[49m\u001b[38;5;241;43m=\u001b[39;49m\u001b[38;5;124;43m\"\u001b[39;49m\u001b[38;5;124;43mRegion\u001b[39;49m\u001b[38;5;124;43m\"\u001b[39;49m\u001b[43m,\u001b[49m\u001b[43m \u001b[49m\u001b[43maxis\u001b[49m\u001b[43m \u001b[49m\u001b[38;5;241;43m=\u001b[39;49m\u001b[43m \u001b[49m\u001b[38;5;241;43m1\u001b[39;49m\u001b[43m)\u001b[49m\n",
      "File \u001b[0;32m~/Desktop/git/rice-datathon/rice-datathon-2025/venv/lib/python3.13/site-packages/pandas/core/frame.py:5581\u001b[0m, in \u001b[0;36mDataFrame.drop\u001b[0;34m(self, labels, axis, index, columns, level, inplace, errors)\u001b[0m\n\u001b[1;32m   5433\u001b[0m \u001b[38;5;28;01mdef\u001b[39;00m\u001b[38;5;250m \u001b[39m\u001b[38;5;21mdrop\u001b[39m(\n\u001b[1;32m   5434\u001b[0m     \u001b[38;5;28mself\u001b[39m,\n\u001b[1;32m   5435\u001b[0m     labels: IndexLabel \u001b[38;5;241m|\u001b[39m \u001b[38;5;28;01mNone\u001b[39;00m \u001b[38;5;241m=\u001b[39m \u001b[38;5;28;01mNone\u001b[39;00m,\n\u001b[0;32m   (...)\u001b[0m\n\u001b[1;32m   5442\u001b[0m     errors: IgnoreRaise \u001b[38;5;241m=\u001b[39m \u001b[38;5;124m\"\u001b[39m\u001b[38;5;124mraise\u001b[39m\u001b[38;5;124m\"\u001b[39m,\n\u001b[1;32m   5443\u001b[0m ) \u001b[38;5;241m-\u001b[39m\u001b[38;5;241m>\u001b[39m DataFrame \u001b[38;5;241m|\u001b[39m \u001b[38;5;28;01mNone\u001b[39;00m:\n\u001b[1;32m   5444\u001b[0m \u001b[38;5;250m    \u001b[39m\u001b[38;5;124;03m\"\"\"\u001b[39;00m\n\u001b[1;32m   5445\u001b[0m \u001b[38;5;124;03m    Drop specified labels from rows or columns.\u001b[39;00m\n\u001b[1;32m   5446\u001b[0m \n\u001b[0;32m   (...)\u001b[0m\n\u001b[1;32m   5579\u001b[0m \u001b[38;5;124;03m            weight  1.0     0.8\u001b[39;00m\n\u001b[1;32m   5580\u001b[0m \u001b[38;5;124;03m    \"\"\"\u001b[39;00m\n\u001b[0;32m-> 5581\u001b[0m     \u001b[38;5;28;01mreturn\u001b[39;00m \u001b[38;5;28;43msuper\u001b[39;49m\u001b[43m(\u001b[49m\u001b[43m)\u001b[49m\u001b[38;5;241;43m.\u001b[39;49m\u001b[43mdrop\u001b[49m\u001b[43m(\u001b[49m\n\u001b[1;32m   5582\u001b[0m \u001b[43m        \u001b[49m\u001b[43mlabels\u001b[49m\u001b[38;5;241;43m=\u001b[39;49m\u001b[43mlabels\u001b[49m\u001b[43m,\u001b[49m\n\u001b[1;32m   5583\u001b[0m \u001b[43m        \u001b[49m\u001b[43maxis\u001b[49m\u001b[38;5;241;43m=\u001b[39;49m\u001b[43maxis\u001b[49m\u001b[43m,\u001b[49m\n\u001b[1;32m   5584\u001b[0m \u001b[43m        \u001b[49m\u001b[43mindex\u001b[49m\u001b[38;5;241;43m=\u001b[39;49m\u001b[43mindex\u001b[49m\u001b[43m,\u001b[49m\n\u001b[1;32m   5585\u001b[0m \u001b[43m        \u001b[49m\u001b[43mcolumns\u001b[49m\u001b[38;5;241;43m=\u001b[39;49m\u001b[43mcolumns\u001b[49m\u001b[43m,\u001b[49m\n\u001b[1;32m   5586\u001b[0m \u001b[43m        \u001b[49m\u001b[43mlevel\u001b[49m\u001b[38;5;241;43m=\u001b[39;49m\u001b[43mlevel\u001b[49m\u001b[43m,\u001b[49m\n\u001b[1;32m   5587\u001b[0m \u001b[43m        \u001b[49m\u001b[43minplace\u001b[49m\u001b[38;5;241;43m=\u001b[39;49m\u001b[43minplace\u001b[49m\u001b[43m,\u001b[49m\n\u001b[1;32m   5588\u001b[0m \u001b[43m        \u001b[49m\u001b[43merrors\u001b[49m\u001b[38;5;241;43m=\u001b[39;49m\u001b[43merrors\u001b[49m\u001b[43m,\u001b[49m\n\u001b[1;32m   5589\u001b[0m \u001b[43m    \u001b[49m\u001b[43m)\u001b[49m\n",
      "File \u001b[0;32m~/Desktop/git/rice-datathon/rice-datathon-2025/venv/lib/python3.13/site-packages/pandas/core/generic.py:4788\u001b[0m, in \u001b[0;36mNDFrame.drop\u001b[0;34m(self, labels, axis, index, columns, level, inplace, errors)\u001b[0m\n\u001b[1;32m   4786\u001b[0m \u001b[38;5;28;01mfor\u001b[39;00m axis, labels \u001b[38;5;129;01min\u001b[39;00m axes\u001b[38;5;241m.\u001b[39mitems():\n\u001b[1;32m   4787\u001b[0m     \u001b[38;5;28;01mif\u001b[39;00m labels \u001b[38;5;129;01mis\u001b[39;00m \u001b[38;5;129;01mnot\u001b[39;00m \u001b[38;5;28;01mNone\u001b[39;00m:\n\u001b[0;32m-> 4788\u001b[0m         obj \u001b[38;5;241m=\u001b[39m \u001b[43mobj\u001b[49m\u001b[38;5;241;43m.\u001b[39;49m\u001b[43m_drop_axis\u001b[49m\u001b[43m(\u001b[49m\u001b[43mlabels\u001b[49m\u001b[43m,\u001b[49m\u001b[43m \u001b[49m\u001b[43maxis\u001b[49m\u001b[43m,\u001b[49m\u001b[43m \u001b[49m\u001b[43mlevel\u001b[49m\u001b[38;5;241;43m=\u001b[39;49m\u001b[43mlevel\u001b[49m\u001b[43m,\u001b[49m\u001b[43m \u001b[49m\u001b[43merrors\u001b[49m\u001b[38;5;241;43m=\u001b[39;49m\u001b[43merrors\u001b[49m\u001b[43m)\u001b[49m\n\u001b[1;32m   4790\u001b[0m \u001b[38;5;28;01mif\u001b[39;00m inplace:\n\u001b[1;32m   4791\u001b[0m     \u001b[38;5;28mself\u001b[39m\u001b[38;5;241m.\u001b[39m_update_inplace(obj)\n",
      "File \u001b[0;32m~/Desktop/git/rice-datathon/rice-datathon-2025/venv/lib/python3.13/site-packages/pandas/core/generic.py:4830\u001b[0m, in \u001b[0;36mNDFrame._drop_axis\u001b[0;34m(self, labels, axis, level, errors, only_slice)\u001b[0m\n\u001b[1;32m   4828\u001b[0m         new_axis \u001b[38;5;241m=\u001b[39m axis\u001b[38;5;241m.\u001b[39mdrop(labels, level\u001b[38;5;241m=\u001b[39mlevel, errors\u001b[38;5;241m=\u001b[39merrors)\n\u001b[1;32m   4829\u001b[0m     \u001b[38;5;28;01melse\u001b[39;00m:\n\u001b[0;32m-> 4830\u001b[0m         new_axis \u001b[38;5;241m=\u001b[39m \u001b[43maxis\u001b[49m\u001b[38;5;241;43m.\u001b[39;49m\u001b[43mdrop\u001b[49m\u001b[43m(\u001b[49m\u001b[43mlabels\u001b[49m\u001b[43m,\u001b[49m\u001b[43m \u001b[49m\u001b[43merrors\u001b[49m\u001b[38;5;241;43m=\u001b[39;49m\u001b[43merrors\u001b[49m\u001b[43m)\u001b[49m\n\u001b[1;32m   4831\u001b[0m     indexer \u001b[38;5;241m=\u001b[39m axis\u001b[38;5;241m.\u001b[39mget_indexer(new_axis)\n\u001b[1;32m   4833\u001b[0m \u001b[38;5;66;03m# Case for non-unique axis\u001b[39;00m\n\u001b[1;32m   4834\u001b[0m \u001b[38;5;28;01melse\u001b[39;00m:\n",
      "File \u001b[0;32m~/Desktop/git/rice-datathon/rice-datathon-2025/venv/lib/python3.13/site-packages/pandas/core/indexes/base.py:7070\u001b[0m, in \u001b[0;36mIndex.drop\u001b[0;34m(self, labels, errors)\u001b[0m\n\u001b[1;32m   7068\u001b[0m \u001b[38;5;28;01mif\u001b[39;00m mask\u001b[38;5;241m.\u001b[39many():\n\u001b[1;32m   7069\u001b[0m     \u001b[38;5;28;01mif\u001b[39;00m errors \u001b[38;5;241m!=\u001b[39m \u001b[38;5;124m\"\u001b[39m\u001b[38;5;124mignore\u001b[39m\u001b[38;5;124m\"\u001b[39m:\n\u001b[0;32m-> 7070\u001b[0m         \u001b[38;5;28;01mraise\u001b[39;00m \u001b[38;5;167;01mKeyError\u001b[39;00m(\u001b[38;5;124mf\u001b[39m\u001b[38;5;124m\"\u001b[39m\u001b[38;5;132;01m{\u001b[39;00mlabels[mask]\u001b[38;5;241m.\u001b[39mtolist()\u001b[38;5;132;01m}\u001b[39;00m\u001b[38;5;124m not found in axis\u001b[39m\u001b[38;5;124m\"\u001b[39m)\n\u001b[1;32m   7071\u001b[0m     indexer \u001b[38;5;241m=\u001b[39m indexer[\u001b[38;5;241m~\u001b[39mmask]\n\u001b[1;32m   7072\u001b[0m \u001b[38;5;28;01mreturn\u001b[39;00m \u001b[38;5;28mself\u001b[39m\u001b[38;5;241m.\u001b[39mdelete(indexer)\n",
      "\u001b[0;31mKeyError\u001b[0m: \"['Region'] not found in axis\""
     ]
    }
   ],
   "source": [
    "df1 = df1.drop(columns=\"Region\", axis = 1)"
   ]
  },
  {
   "cell_type": "markdown",
   "metadata": {},
   "source": [
    "## Data Wrangling"
   ]
  },
  {
   "cell_type": "code",
   "execution_count": 80,
   "metadata": {},
   "outputs": [],
   "source": [
    "categorical_cols = [\"Vehicle Category\", \"Fuel Type\", \"Fuel Technology\", \"Electric Mile Range\"]\n",
    "for col in categorical_cols:\n",
    "    df1[col] = df1[col].astype(\"category\")\n",
    "    "
   ]
  },
  {
   "cell_type": "code",
   "execution_count": 82,
   "metadata": {},
   "outputs": [
    {
     "data": {
      "text/plain": [
       "Date                                                    int64\n",
       "Vehicle Category                                     category\n",
       "GVWR Class                                             object\n",
       "Fuel Type                                            category\n",
       "Model Year                                              int64\n",
       "Fuel Technology                                      category\n",
       "Electric Mile Range                                  category\n",
       "Number of Vehicles Registered at the Same Address      object\n",
       "Vehicle Population                                      int64\n",
       "dtype: object"
      ]
     },
     "execution_count": 82,
     "metadata": {},
     "output_type": "execute_result"
    }
   ],
   "source": [
    "df1.dtypes"
   ]
  },
  {
   "cell_type": "code",
   "execution_count": 83,
   "metadata": {},
   "outputs": [
    {
     "data": {
      "text/plain": [
       "array([\"'≥4'\", \"'1'\", \"'2'\", \"'3'\", \"'Unknown'\"], dtype=object)"
      ]
     },
     "execution_count": 83,
     "metadata": {},
     "output_type": "execute_result"
    }
   ],
   "source": [
    "df1[\"Number of Vehicles Registered at the Same Address\"].apply(lambda x: repr(x)).unique()\n"
   ]
  },
  {
   "cell_type": "code",
   "execution_count": 22,
   "metadata": {},
   "outputs": [],
   "source": [
    "# import unicodedata\n",
    "\n",
    "# ordinal_mapping = {'1': int(1), '2': int(2), '3': int(3), unicodedata.name(\"\\u03C0\"): int(4), \"Unknown\": int(-1)}\n",
    "\n",
    "# df[\"Number of Vehicles Registered at the Same Address\"] = df[\"Number of Vehicles Registered at the Same Address\"].astype(str).map(ordinal_mapping)"
   ]
  },
  {
   "cell_type": "code",
   "execution_count": 84,
   "metadata": {},
   "outputs": [],
   "source": [
    "df1[\"Number of Vehicles Registered at the Same Address\"] = df[\"Number of Vehicles Registered at the Same Address\"].replace({'1': 1, '2': 2, '3': 3, \"\\u22654\": 4, \"Unknown\": -1})\n",
    "\n",
    "df1[\"GVWR Class\"] = df1[\"GVWR Class\"].replace({\"Not Applicable\": -1, \"Unknown\": -1})"
   ]
  },
  {
   "cell_type": "code",
   "execution_count": 86,
   "metadata": {},
   "outputs": [
    {
     "data": {
      "text/plain": [
       "Date                                                 0\n",
       "Vehicle Category                                     0\n",
       "GVWR Class                                           0\n",
       "Fuel Type                                            0\n",
       "Model Year                                           0\n",
       "Fuel Technology                                      0\n",
       "Electric Mile Range                                  0\n",
       "Number of Vehicles Registered at the Same Address    0\n",
       "Vehicle Population                                   0\n",
       "dtype: int64"
      ]
     },
     "execution_count": 86,
     "metadata": {},
     "output_type": "execute_result"
    }
   ],
   "source": [
    "df1.isnull().sum()\n",
    "df.isnull().sum()"
   ]
  },
  {
   "cell_type": "code",
   "execution_count": 87,
   "metadata": {},
   "outputs": [
    {
     "name": "stdout",
     "output_type": "stream",
     "text": [
      "<class 'pandas.core.frame.DataFrame'>\n",
      "Index: 40450 entries, 0 to 40449\n",
      "Data columns (total 9 columns):\n",
      " #   Column                                             Non-Null Count  Dtype   \n",
      "---  ------                                             --------------  -----   \n",
      " 0   Date                                               40450 non-null  int64   \n",
      " 1   Vehicle Category                                   40450 non-null  category\n",
      " 2   GVWR Class                                         40450 non-null  object  \n",
      " 3   Fuel Type                                          40450 non-null  category\n",
      " 4   Model Year                                         40450 non-null  int64   \n",
      " 5   Fuel Technology                                    40450 non-null  category\n",
      " 6   Electric Mile Range                                40450 non-null  category\n",
      " 7   Number of Vehicles Registered at the Same Address  40450 non-null  int64   \n",
      " 8   Vehicle Population                                 40450 non-null  int64   \n",
      "dtypes: category(4), int64(4), object(1)\n",
      "memory usage: 2.0+ MB\n"
     ]
    }
   ],
   "source": [
    "df1.info()"
   ]
  },
  {
   "cell_type": "code",
   "execution_count": 88,
   "metadata": {},
   "outputs": [],
   "source": [
    "from sklearn.model_selection import train_test_split\n",
    "\n",
    "# Separate the feature and the target\n",
    "X = df1.drop(columns= \"Vehicle Population\")\n",
    "y = df1[\"Vehicle Population\"]\n",
    "\n",
    "X_train, X_test, y_train, y_test = train_test_split(X, y, test_size=0.2, random_state=42)"
   ]
  },
  {
   "cell_type": "code",
   "execution_count": 89,
   "metadata": {},
   "outputs": [],
   "source": [
    "col = 'GVWR Class'\n",
    "X_train[col] = X_train[col].astype(\"category\").cat.codes.astype(\"int64\")\n",
    "X_test[col] = X_test[col].astype(\"category\").cat.codes.astype(\"int64\")"
   ]
  },
  {
   "cell_type": "markdown",
   "metadata": {},
   "source": [
    "# Build a pipeline of training"
   ]
  },
  {
   "cell_type": "code",
   "execution_count": 91,
   "metadata": {},
   "outputs": [],
   "source": [
    "from sklearn.pipeline import Pipeline\n",
    "from category_encoders.target_encoder import TargetEncoder\n",
    "from xgboost import XGBRegressor"
   ]
  },
  {
   "cell_type": "code",
   "execution_count": 90,
   "metadata": {},
   "outputs": [],
   "source": [
    "categorical_features = [\"Vehicle Category\", \"Fuel Type\", \"Fuel Technology\", \"Electric Mile Range\"]\n",
    "# estimators = [\n",
    "#     ('encoder', TargetEncoder(cols=categorical_features)),  # Encode categorical features only\n",
    "#     ('clf', XGBRegressor(random_state=42))\n",
    "# ]\n",
    "\n",
    "# pipe = Pipeline(steps = estimators)"
   ]
  },
  {
   "cell_type": "markdown",
   "metadata": {},
   "source": [
    "# Set up hyper parameter tuning "
   ]
  },
  {
   "cell_type": "code",
   "execution_count": 30,
   "metadata": {},
   "outputs": [],
   "source": [
    "# from skopt import BayesSearchCV\n",
    "# from skopt.space import Real, Integer\n",
    "\n",
    "# search_space = {\n",
    "#     'clf__max_depth': Integer(3, 8),  # Keep tree depth moderate\n",
    "#     'clf__learning_rate': Real(0.02, 0.2, prior='log-uniform'),  # Not too slow, not too fast\n",
    "#     'clf__n_estimators': Integer(100, 500),  # Limit the number of trees to balance performance\n",
    "#     'clf__subsample': Real(0.6, 0.9),  # Randomly sample data to prevent overfitting\n",
    "#     'clf__colsample_bytree': Real(0.5, 0.8),  # Use only a subset of features per tree\n",
    "#     'clf__colsample_bylevel': Real(0.5, 0.8),\n",
    "#     'clf__colsample_bynode': Real(0.5, 0.8),\n",
    "#     'clf__reg_alpha': Real(0.01, 2.0),  # Light L1 regularization\n",
    "#     'clf__reg_lambda': Real(0.1, 5.0),  # Mild L2 regularization\n",
    "#     'clf__gamma': Real(0.0, 5.0)  # Prevent excessive tree splits\n",
    "# }\n",
    "\n",
    "# opt = BayesSearchCV(\n",
    "#     estimator=pipe,\n",
    "#     search_spaces=search_space,\n",
    "#     cv=5,  # More cross-validation folds for stability\n",
    "#     n_iter=20,  # Optimize in 20 rounds (higher = better)\n",
    "#     scoring='neg_root_mean_squared_error',  \n",
    "#     random_state=42\n",
    "# )"
   ]
  },
  {
   "cell_type": "code",
   "execution_count": 92,
   "metadata": {},
   "outputs": [],
   "source": [
    "# from sklearn.pipeline import Pipeline\n",
    "# from category_encoders.target_encoder import TargetEncoder\n",
    "\n",
    "# def objective(trial):\n",
    "#     params = {\n",
    "#         'max_depth': trial.suggest_int('max_depth', 3, 8),\n",
    "#         'learning_rate': trial.suggest_loguniform('learning_rate', 0.02, 0.2),\n",
    "#         'n_estimators': trial.suggest_int('n_estimators', 100, 500),\n",
    "#         'subsample': trial.suggest_uniform('subsample', 0.6, 0.9),\n",
    "#         'colsample_bytree': trial.suggest_uniform('colsample_bytree', 0.5, 0.8),\n",
    "#         'colsample_bylevel': trial.suggest_uniform('colsample_bylevel', 0.5, 0.8),\n",
    "#         'colsample_bynode': trial.suggest_uniform('colsample_bynode', 0.5, 0.8),\n",
    "#         'reg_alpha': trial.suggest_loguniform('reg_alpha', 0.01, 2.0),\n",
    "#         'reg_lambda': trial.suggest_loguniform('reg_lambda', 0.1, 5.0),\n",
    "#         'gamma': trial.suggest_uniform('gamma', 0.0, 5.0),\n",
    "#         'random_state': 42\n",
    "#     }\n",
    "\n",
    "#     # Build pipeline with categorical encoding\n",
    "#     pipe = Pipeline([\n",
    "#         ('encoder', TargetEncoder(cols=categorical_cols)),\n",
    "#         ('clf', XGBRegressor(**params))\n",
    "#     ])\n",
    "\n",
    "#     pipe.fit(X_train, y_train)\n",
    "#     y_pred = pipe.predict(X_test)\n",
    "#     rmse = np.sqrt(np.mean((y_test - y_pred) ** 2))\n",
    "#     return rmse\n"
   ]
  },
  {
   "cell_type": "code",
   "execution_count": 94,
   "metadata": {},
   "outputs": [
    {
     "name": "stderr",
     "output_type": "stream",
     "text": [
      "[I 2025-02-01 16:04:43,187] A new study created in memory with name: no-name-814b69a2-2b5b-4560-a514-6f9187b74281\n",
      "[I 2025-02-01 16:04:43,721] Trial 0 finished with value: 6647.616758420024 and parameters: {'max_depth': 7, 'learning_rate': 0.026435091969102858, 'n_estimators': 349, 'subsample': 0.6349706729659274, 'colsample_bytree': 0.7980728413941408, 'colsample_bylevel': 0.7367967734095607, 'colsample_bynode': 0.5011020640633209, 'reg_alpha': 0.012242804607734732, 'reg_lambda': 1.1175957431073547, 'gamma': 0.029314573809290922}. Best is trial 0 with value: 6647.616758420024.\n"
     ]
    },
    {
     "name": "stdout",
     "output_type": "stream",
     "text": [
      "Trial 0: RMSE 6647.616758420024\n"
     ]
    },
    {
     "name": "stderr",
     "output_type": "stream",
     "text": [
      "[I 2025-02-01 16:04:44,010] Trial 1 finished with value: 10090.323639941767 and parameters: {'max_depth': 5, 'learning_rate': 0.11352760312044687, 'n_estimators': 191, 'subsample': 0.7118736287072048, 'colsample_bytree': 0.5223808711839054, 'colsample_bylevel': 0.7329957728805684, 'colsample_bynode': 0.5459416619834728, 'reg_alpha': 0.5464547900651238, 'reg_lambda': 1.8766688715592286, 'gamma': 2.557407735508843}. Best is trial 0 with value: 6647.616758420024.\n",
      "[I 2025-02-01 16:04:44,184] Trial 2 finished with value: 11115.544152050956 and parameters: {'max_depth': 4, 'learning_rate': 0.09812714606364059, 'n_estimators': 168, 'subsample': 0.8864679065756361, 'colsample_bytree': 0.5101851451534378, 'colsample_bylevel': 0.570762541594945, 'colsample_bynode': 0.5285500743058988, 'reg_alpha': 0.9727868683539994, 'reg_lambda': 3.796711620878259, 'gamma': 0.16204543037208086}. Best is trial 0 with value: 6647.616758420024.\n"
     ]
    },
    {
     "name": "stdout",
     "output_type": "stream",
     "text": [
      "Trial 1: RMSE 10090.323639941767\n",
      "Trial 2: RMSE 11115.544152050956\n"
     ]
    },
    {
     "name": "stderr",
     "output_type": "stream",
     "text": [
      "[I 2025-02-01 16:04:44,395] Trial 3 finished with value: 8483.062383715784 and parameters: {'max_depth': 4, 'learning_rate': 0.09193822504499102, 'n_estimators': 186, 'subsample': 0.8960445958132534, 'colsample_bytree': 0.7867895712362286, 'colsample_bylevel': 0.5165900190693073, 'colsample_bynode': 0.6883690250736331, 'reg_alpha': 0.058428351136986495, 'reg_lambda': 2.221187586957993, 'gamma': 4.758448108125366}. Best is trial 0 with value: 6647.616758420024.\n"
     ]
    },
    {
     "name": "stdout",
     "output_type": "stream",
     "text": [
      "Trial 3: RMSE 8483.062383715784\n"
     ]
    },
    {
     "name": "stderr",
     "output_type": "stream",
     "text": [
      "[I 2025-02-01 16:04:44,659] Trial 4 finished with value: 5530.709125753121 and parameters: {'max_depth': 8, 'learning_rate': 0.17798677591432663, 'n_estimators': 132, 'subsample': 0.6696570122584211, 'colsample_bytree': 0.6908696133962542, 'colsample_bylevel': 0.6132287467928687, 'colsample_bynode': 0.7917282057420908, 'reg_alpha': 0.018944076707285484, 'reg_lambda': 0.10547182108766807, 'gamma': 1.0838613204001253}. Best is trial 4 with value: 5530.709125753121.\n"
     ]
    },
    {
     "name": "stdout",
     "output_type": "stream",
     "text": [
      "Trial 4: RMSE 5530.709125753121\n"
     ]
    },
    {
     "name": "stderr",
     "output_type": "stream",
     "text": [
      "[I 2025-02-01 16:04:45,171] Trial 5 finished with value: 6263.714238242505 and parameters: {'max_depth': 5, 'learning_rate': 0.06362413972891796, 'n_estimators': 491, 'subsample': 0.6131808018120077, 'colsample_bytree': 0.7650451762276783, 'colsample_bylevel': 0.7185033192657373, 'colsample_bynode': 0.5079962623819604, 'reg_alpha': 0.8310583766454845, 'reg_lambda': 0.872472735699382, 'gamma': 1.669213911306882}. Best is trial 4 with value: 5530.709125753121.\n"
     ]
    },
    {
     "name": "stdout",
     "output_type": "stream",
     "text": [
      "Trial 5: RMSE 6263.714238242505\n"
     ]
    },
    {
     "name": "stderr",
     "output_type": "stream",
     "text": [
      "[I 2025-02-01 16:04:45,391] Trial 6 finished with value: 12349.538524284568 and parameters: {'max_depth': 8, 'learning_rate': 0.03856187706370184, 'n_estimators': 123, 'subsample': 0.8162352207403698, 'colsample_bytree': 0.6619401516486662, 'colsample_bylevel': 0.5021597379914892, 'colsample_bynode': 0.5551331211741655, 'reg_alpha': 0.12276193017385166, 'reg_lambda': 2.92929876971317, 'gamma': 1.0442263305998605}. Best is trial 4 with value: 5530.709125753121.\n"
     ]
    },
    {
     "name": "stdout",
     "output_type": "stream",
     "text": [
      "Trial 6: RMSE 12349.538524284568\n"
     ]
    },
    {
     "name": "stderr",
     "output_type": "stream",
     "text": [
      "[I 2025-02-01 16:04:45,682] Trial 7 finished with value: 11846.36876091476 and parameters: {'max_depth': 3, 'learning_rate': 0.04492856927597391, 'n_estimators': 394, 'subsample': 0.762243418036203, 'colsample_bytree': 0.5217274020942001, 'colsample_bylevel': 0.6429633387343358, 'colsample_bynode': 0.6003326915818213, 'reg_alpha': 0.11257221970664773, 'reg_lambda': 2.364957653520921, 'gamma': 0.03352943043720136}. Best is trial 4 with value: 5530.709125753121.\n",
      "[I 2025-02-01 16:04:45,872] Trial 8 finished with value: 10407.180486971143 and parameters: {'max_depth': 5, 'learning_rate': 0.12221662697009518, 'n_estimators': 174, 'subsample': 0.8538925599225375, 'colsample_bytree': 0.555233495918313, 'colsample_bylevel': 0.5770667685834099, 'colsample_bynode': 0.7980762973957191, 'reg_alpha': 0.8437720330110368, 'reg_lambda': 2.313844217693344, 'gamma': 1.7153113518114242}. Best is trial 4 with value: 5530.709125753121.\n"
     ]
    },
    {
     "name": "stdout",
     "output_type": "stream",
     "text": [
      "Trial 7: RMSE 11846.36876091476\n",
      "Trial 8: RMSE 10407.180486971143\n"
     ]
    },
    {
     "name": "stderr",
     "output_type": "stream",
     "text": [
      "[I 2025-02-01 16:04:45,990] Trial 9 finished with value: 13624.373140489022 and parameters: {'max_depth': 3, 'learning_rate': 0.05695740407608515, 'n_estimators': 131, 'subsample': 0.6564844979227961, 'colsample_bytree': 0.5158964224257213, 'colsample_bylevel': 0.6292645530039818, 'colsample_bynode': 0.6947812578091805, 'reg_alpha': 0.20567434721517325, 'reg_lambda': 4.885894824385729, 'gamma': 1.8228354851127455}. Best is trial 4 with value: 5530.709125753121.\n"
     ]
    },
    {
     "name": "stdout",
     "output_type": "stream",
     "text": [
      "Trial 9: RMSE 13624.373140489022\n"
     ]
    },
    {
     "name": "stderr",
     "output_type": "stream",
     "text": [
      "[I 2025-02-01 16:04:46,362] Trial 10 finished with value: 4775.830890150832 and parameters: {'max_depth': 7, 'learning_rate': 0.1986201459327877, 'n_estimators': 262, 'subsample': 0.7028469160337381, 'colsample_bytree': 0.6840029313534042, 'colsample_bylevel': 0.788475460328079, 'colsample_bynode': 0.7971146026673445, 'reg_alpha': 0.012085414281759051, 'reg_lambda': 0.12101824809167083, 'gamma': 4.102919493472319}. Best is trial 10 with value: 4775.830890150832.\n"
     ]
    },
    {
     "name": "stdout",
     "output_type": "stream",
     "text": [
      "Trial 10: RMSE 4775.830890150832\n"
     ]
    },
    {
     "name": "stderr",
     "output_type": "stream",
     "text": [
      "[I 2025-02-01 16:04:46,750] Trial 11 finished with value: 4535.443007930113 and parameters: {'max_depth': 7, 'learning_rate': 0.19863486103584319, 'n_estimators': 266, 'subsample': 0.6999987823765885, 'colsample_bytree': 0.678563480210314, 'colsample_bylevel': 0.7797389773280938, 'colsample_bynode': 0.7990764169425126, 'reg_alpha': 0.014198134872149727, 'reg_lambda': 0.11569467006542211, 'gamma': 4.024697211258517}. Best is trial 11 with value: 4535.443007930113.\n"
     ]
    },
    {
     "name": "stdout",
     "output_type": "stream",
     "text": [
      "Trial 11: RMSE 4535.443007930113\n"
     ]
    },
    {
     "name": "stderr",
     "output_type": "stream",
     "text": [
      "[I 2025-02-01 16:04:47,133] Trial 12 finished with value: 5464.602300947897 and parameters: {'max_depth': 7, 'learning_rate': 0.16855422043863325, 'n_estimators': 266, 'subsample': 0.7314166255268729, 'colsample_bytree': 0.6129457424945244, 'colsample_bylevel': 0.7993506598950291, 'colsample_bynode': 0.751087617060807, 'reg_alpha': 0.01017660331170728, 'reg_lambda': 0.11975870399405357, 'gamma': 4.381966087681638}. Best is trial 11 with value: 4535.443007930113.\n"
     ]
    },
    {
     "name": "stdout",
     "output_type": "stream",
     "text": [
      "Trial 12: RMSE 5464.602300947897\n"
     ]
    },
    {
     "name": "stderr",
     "output_type": "stream",
     "text": [
      "[I 2025-02-01 16:04:47,574] Trial 13 finished with value: 4763.700362687063 and parameters: {'max_depth': 7, 'learning_rate': 0.19544206233786587, 'n_estimators': 286, 'subsample': 0.693512386636391, 'colsample_bytree': 0.7175625777924928, 'colsample_bylevel': 0.7996818605288557, 'colsample_bynode': 0.7348850571828401, 'reg_alpha': 0.03646892554477498, 'reg_lambda': 0.26868715766414863, 'gamma': 3.70058643278867}. Best is trial 11 with value: 4535.443007930113.\n"
     ]
    },
    {
     "name": "stdout",
     "output_type": "stream",
     "text": [
      "Trial 13: RMSE 4763.700362687063\n"
     ]
    },
    {
     "name": "stderr",
     "output_type": "stream",
     "text": [
      "[I 2025-02-01 16:04:47,964] Trial 14 finished with value: 5114.126414326154 and parameters: {'max_depth': 6, 'learning_rate': 0.13592228870018147, 'n_estimators': 323, 'subsample': 0.7622673645422777, 'colsample_bytree': 0.731479365529593, 'colsample_bylevel': 0.7604166116802145, 'colsample_bynode': 0.7347895304769738, 'reg_alpha': 0.034507095708523734, 'reg_lambda': 0.2976384022735052, 'gamma': 3.4490756602904065}. Best is trial 11 with value: 4535.443007930113.\n"
     ]
    },
    {
     "name": "stdout",
     "output_type": "stream",
     "text": [
      "Trial 14: RMSE 5114.126414326154\n"
     ]
    },
    {
     "name": "stderr",
     "output_type": "stream",
     "text": [
      "[I 2025-02-01 16:04:48,333] Trial 15 finished with value: 10441.328250200459 and parameters: {'max_depth': 6, 'learning_rate': 0.0796610749908449, 'n_estimators': 262, 'subsample': 0.6913957378405239, 'colsample_bytree': 0.6101283242004486, 'colsample_bylevel': 0.6906583701188586, 'colsample_bynode': 0.7410246317908681, 'reg_alpha': 0.036719223377273534, 'reg_lambda': 0.26897842351080153, 'gamma': 3.3612060234523087}. Best is trial 11 with value: 4535.443007930113.\n"
     ]
    },
    {
     "name": "stdout",
     "output_type": "stream",
     "text": [
      "Trial 15: RMSE 10441.328250200459\n"
     ]
    },
    {
     "name": "stderr",
     "output_type": "stream",
     "text": [
      "[I 2025-02-01 16:04:48,993] Trial 16 finished with value: 7281.038150978618 and parameters: {'max_depth': 7, 'learning_rate': 0.14212285557459844, 'n_estimators': 399, 'subsample': 0.7996628311810992, 'colsample_bytree': 0.7239867661199328, 'colsample_bylevel': 0.6906722402875592, 'colsample_bynode': 0.6481909136934435, 'reg_alpha': 0.027390343891663255, 'reg_lambda': 0.2523168202549589, 'gamma': 3.471831210572791}. Best is trial 11 with value: 4535.443007930113.\n"
     ]
    },
    {
     "name": "stdout",
     "output_type": "stream",
     "text": [
      "Trial 16: RMSE 7281.038150978618\n"
     ]
    },
    {
     "name": "stderr",
     "output_type": "stream",
     "text": [
      "[I 2025-02-01 16:04:49,521] Trial 17 finished with value: 8621.86998601702 and parameters: {'max_depth': 8, 'learning_rate': 0.021328108440186778, 'n_estimators': 227, 'subsample': 0.7376405732517117, 'colsample_bytree': 0.7270353983465495, 'colsample_bylevel': 0.7801720531979438, 'colsample_bynode': 0.6947881140948058, 'reg_alpha': 0.06786254271237585, 'reg_lambda': 0.4765532342170767, 'gamma': 2.816615634274203}. Best is trial 11 with value: 4535.443007930113.\n"
     ]
    },
    {
     "name": "stdout",
     "output_type": "stream",
     "text": [
      "Trial 17: RMSE 8621.86998601702\n"
     ]
    },
    {
     "name": "stderr",
     "output_type": "stream",
     "text": [
      "[I 2025-02-01 16:04:49,925] Trial 18 finished with value: 8018.214553164234 and parameters: {'max_depth': 6, 'learning_rate': 0.15532431388874265, 'n_estimators': 351, 'subsample': 0.6607553419658508, 'colsample_bytree': 0.6236485762877239, 'colsample_bylevel': 0.6770026622449052, 'colsample_bynode': 0.7587368721959891, 'reg_alpha': 1.9953696332894852, 'reg_lambda': 0.18492402965460575, 'gamma': 4.975549110112436}. Best is trial 11 with value: 4535.443007930113.\n"
     ]
    },
    {
     "name": "stdout",
     "output_type": "stream",
     "text": [
      "Trial 18: RMSE 8018.214553164234\n"
     ]
    },
    {
     "name": "stderr",
     "output_type": "stream",
     "text": [
      "[I 2025-02-01 16:04:50,312] Trial 19 finished with value: 9147.54411007245 and parameters: {'max_depth': 7, 'learning_rate': 0.06994547322446369, 'n_estimators': 297, 'subsample': 0.6064712761049826, 'colsample_bytree': 0.6484510612833243, 'colsample_bylevel': 0.7497763166924462, 'colsample_bynode': 0.6498430248950547, 'reg_alpha': 0.021108396010871507, 'reg_lambda': 0.49949868411868303, 'gamma': 3.9809538870724794}. Best is trial 11 with value: 4535.443007930113.\n"
     ]
    },
    {
     "name": "stdout",
     "output_type": "stream",
     "text": [
      "Trial 19: RMSE 9147.54411007245\n"
     ]
    },
    {
     "name": "stderr",
     "output_type": "stream",
     "text": [
      "[I 2025-02-01 16:04:51,120] Trial 20 finished with value: 3837.1034195879197 and parameters: {'max_depth': 8, 'learning_rate': 0.19253960941802928, 'n_estimators': 440, 'subsample': 0.799621474808938, 'colsample_bytree': 0.7555496554607678, 'colsample_bylevel': 0.7677598443863813, 'colsample_bynode': 0.7241278134445378, 'reg_alpha': 0.23776518923969842, 'reg_lambda': 0.17257702527362767, 'gamma': 3.106620321463616}. Best is trial 20 with value: 3837.1034195879197.\n"
     ]
    },
    {
     "name": "stdout",
     "output_type": "stream",
     "text": [
      "Trial 20: RMSE 3837.1034195879197\n"
     ]
    },
    {
     "name": "stderr",
     "output_type": "stream",
     "text": [
      "[I 2025-02-01 16:04:51,968] Trial 21 finished with value: 3743.020209262959 and parameters: {'max_depth': 8, 'learning_rate': 0.18652231001261987, 'n_estimators': 490, 'subsample': 0.7931743217866822, 'colsample_bytree': 0.7672817384234931, 'colsample_bylevel': 0.7675772178899972, 'colsample_bynode': 0.7255764938629962, 'reg_alpha': 0.24998805079593106, 'reg_lambda': 0.17453395332262958, 'gamma': 2.9855029280654284}. Best is trial 21 with value: 3743.020209262959.\n"
     ]
    },
    {
     "name": "stdout",
     "output_type": "stream",
     "text": [
      "Trial 21: RMSE 3743.020209262959\n"
     ]
    },
    {
     "name": "stderr",
     "output_type": "stream",
     "text": [
      "[I 2025-02-01 16:04:52,831] Trial 22 finished with value: 3813.4799982509703 and parameters: {'max_depth': 8, 'learning_rate': 0.15021715725381188, 'n_estimators': 500, 'subsample': 0.7973235130403301, 'colsample_bytree': 0.7679044359665586, 'colsample_bylevel': 0.7686982012203878, 'colsample_bynode': 0.713495581167829, 'reg_alpha': 0.2901190641921708, 'reg_lambda': 0.1690883621243782, 'gamma': 2.9410677736344524}. Best is trial 21 with value: 3743.020209262959.\n"
     ]
    },
    {
     "name": "stdout",
     "output_type": "stream",
     "text": [
      "Trial 22: RMSE 3813.4799982509703\n"
     ]
    },
    {
     "name": "stderr",
     "output_type": "stream",
     "text": [
      "[I 2025-02-01 16:04:53,581] Trial 23 finished with value: 4062.872532642464 and parameters: {'max_depth': 8, 'learning_rate': 0.11023243426817066, 'n_estimators': 492, 'subsample': 0.791356882742024, 'colsample_bytree': 0.7569172920049512, 'colsample_bylevel': 0.7119009795662778, 'colsample_bynode': 0.7134560525266905, 'reg_alpha': 0.24127511846797084, 'reg_lambda': 0.18481147974599646, 'gamma': 3.015061842498286}. Best is trial 21 with value: 3743.020209262959.\n"
     ]
    },
    {
     "name": "stdout",
     "output_type": "stream",
     "text": [
      "Trial 23: RMSE 4062.872532642464\n"
     ]
    },
    {
     "name": "stderr",
     "output_type": "stream",
     "text": [
      "[I 2025-02-01 16:04:54,274] Trial 24 finished with value: 3890.430278112535 and parameters: {'max_depth': 8, 'learning_rate': 0.1501249169937477, 'n_estimators': 458, 'subsample': 0.8358338748238252, 'colsample_bytree': 0.7608304316510353, 'colsample_bylevel': 0.7632557110291239, 'colsample_bynode': 0.6721127058455731, 'reg_alpha': 0.3361185178933097, 'reg_lambda': 0.17966988289787778, 'gamma': 2.2365954510097024}. Best is trial 21 with value: 3743.020209262959.\n"
     ]
    },
    {
     "name": "stdout",
     "output_type": "stream",
     "text": [
      "Trial 24: RMSE 3890.430278112535\n"
     ]
    }
   ],
   "source": [
    "import optuna\n",
    "\n",
    "def objective(trial):\n",
    "    params = {\n",
    "        'max_depth': trial.suggest_int('max_depth', 3, 8),\n",
    "        'learning_rate': trial.suggest_loguniform('learning_rate', 0.02, 0.2),\n",
    "        'n_estimators': trial.suggest_int('n_estimators', 100, 500),\n",
    "        'subsample': trial.suggest_uniform('subsample', 0.6, 0.9),\n",
    "        'colsample_bytree': trial.suggest_uniform('colsample_bytree', 0.5, 0.8),\n",
    "        'colsample_bylevel': trial.suggest_uniform('colsample_bylevel', 0.5, 0.8),\n",
    "        'colsample_bynode': trial.suggest_uniform('colsample_bynode', 0.5, 0.8),\n",
    "        'reg_alpha': trial.suggest_loguniform('reg_alpha', 0.01, 2.0),\n",
    "        'reg_lambda': trial.suggest_loguniform('reg_lambda', 0.1, 5.0),\n",
    "        'gamma': trial.suggest_uniform('gamma', 0.0, 5.0),\n",
    "        'random_state': 42\n",
    "    }\n",
    "\n",
    "    # Encode categorical features\n",
    "    X_train_encoded = X_train.copy()\n",
    "    X_test_encoded = X_test.copy()\n",
    "    encoder = TargetEncoder(cols=categorical_cols)\n",
    "    X_train_encoded[categorical_cols] = encoder.fit_transform(X_train[categorical_cols], y_train)\n",
    "    X_test_encoded[categorical_cols] = encoder.transform(X_test[categorical_cols])\n",
    "\n",
    "    model = XGBRegressor(**params)\n",
    "    model.fit(X_train_encoded, y_train)\n",
    "    y_pred = model.predict(X_test_encoded)\n",
    "    rmse = np.sqrt(np.mean((y_test - y_pred) ** 2))\n",
    "    return rmse\n",
    "\n",
    "def print_rmse(study, trial):\n",
    "    print(f\"Trial {trial.number}: RMSE {trial.value}\")\n",
    "\n",
    "study = optuna.create_study(direction=\"minimize\")\n",
    "study.optimize(objective, n_trials=25, callbacks=[print_rmse]) # Can add callbacks=[print_rmse] to print RMSE here\n"
   ]
  },
  {
   "cell_type": "markdown",
   "metadata": {},
   "source": [
    "Saving the top performing hypermeters to train on the scoring dataset\n"
   ]
  },
  {
   "cell_type": "code",
   "execution_count": 95,
   "metadata": {},
   "outputs": [],
   "source": [
    "import json \n",
    "top_trials = sorted(study.trials, key=lambda x: x.value)[:3]\n",
    "top_params = [trial.params for trial in top_trials]\n",
    "\n",
    "# Save the top parameters to a JSON file\n",
    "with open(\"best_models.json\", \"w\") as f:\n",
    "    json.dump(top_params, f, indent=4)"
   ]
  },
  {
   "cell_type": "code",
   "execution_count": 96,
   "metadata": {},
   "outputs": [],
   "source": [
    "with open(\"best_models.json\", \"r\") as f:\n",
    "    best_params = json.load(f)\n",
    "\n",
    "# Load the new dataset without index\n",
    "scoring_data = pd.read_csv(\"scoring_cleaned_data.csv\")\n",
    "\n",
    "# Define categorical columns (must match those from training)\n",
    "categorical_cols = [\"Vehicle Category\", \"Fuel Type\", \"Fuel Technology\", \"Electric Mile Range\"]"
   ]
  },
  {
   "cell_type": "code",
   "execution_count": 98,
   "metadata": {},
   "outputs": [],
   "source": [
    "# Ensure columns exist in scoring data\n",
    "missing_cols = [col for col in categorical_cols if col not in scoring_data.columns]\n",
    "if missing_cols:\n",
    "    raise ValueError(f\"Missing categorical columns in scoring dataset: {missing_cols}\")\n",
    "\n",
    "# Separate features and target variable\n",
    "X_scoring = scoring_data.drop(columns=[\"Vehicle Population\"], errors=\"ignore\")  # Adjust column name if needed\n",
    "y_scoring = scoring_data[\"Vehicle Population\"] if \"Vehicle Population\" in scoring_data else None  # Handle missing target\n",
    "\n",
    "# Encode categorical features using the same method as training\n",
    "encoder = TargetEncoder(cols=categorical_cols)\n",
    "X_train_encoded = X_train.copy()\n",
    "X_train_encoded[categorical_cols] = encoder.fit_transform(X_train[categorical_cols], y_train)\n",
    "\n",
    "scoring_encoded = X_scoring.copy()\n",
    "scoring_encoded[categorical_cols] = encoder.transform(X_scoring[categorical_cols])"
   ]
  },
  {
   "cell_type": "code",
   "execution_count": 100,
   "metadata": {},
   "outputs": [],
   "source": [
    "# Ensure numerical columns are correctly formatted\n",
    "numerical_cols = [\"GVWR Class\", \"Number of Vehicles Registered at the Same Address\"]\n",
    "for col in numerical_cols:\n",
    "    if col in scoring_encoded.columns:\n",
    "        scoring_encoded[col] = scoring_encoded[col].astype(\"category\").cat.codes"
   ]
  },
  {
   "cell_type": "code",
   "execution_count": 101,
   "metadata": {},
   "outputs": [
    {
     "name": "stdout",
     "output_type": "stream",
     "text": [
      "Model 1 RMSE: 13128.496029629594\n",
      "Model 2 RMSE: 16270.675953997732\n",
      "Model 3 RMSE: 16570.272176400726\n"
     ]
    }
   ],
   "source": [
    "# Dictionary to store RMSE values\n",
    "rmse_scores = {}\n",
    "predictions = {}\n",
    "\n",
    "# Apply the best models to make predictions and compute RMSE\n",
    "for i, params in enumerate(best_params):\n",
    "    model = XGBRegressor(**params)\n",
    "    \n",
    "    # Train model on original dataset\n",
    "    model.fit(X_train_encoded, y_train)\n",
    "    \n",
    "    # Predict on scoring dataset\n",
    "    y_pred = model.predict(scoring_encoded)\n",
    "    predictions[f\"Model_{i+1}\"] = y_pred\n",
    "    \n",
    "    # Compute RMSE (only if y_scoring exists)\n",
    "    if y_scoring is not None:\n",
    "        rmse = np.sqrt(mean_squared_error(y_scoring, y_pred))\n",
    "        rmse_scores[f\"Model_{i+1}\"] = rmse\n",
    "        print(f\"Model {i+1} RMSE: {rmse}\")"
   ]
  },
  {
   "cell_type": "markdown",
   "metadata": {},
   "source": []
  }
 ],
 "metadata": {
  "kernelspec": {
   "display_name": "venv",
   "language": "python",
   "name": "python3"
  },
  "language_info": {
   "codemirror_mode": {
    "name": "ipython",
    "version": 3
   },
   "file_extension": ".py",
   "mimetype": "text/x-python",
   "name": "python",
   "nbconvert_exporter": "python",
   "pygments_lexer": "ipython3",
   "version": "3.13.1"
  }
 },
 "nbformat": 4,
 "nbformat_minor": 2
}
