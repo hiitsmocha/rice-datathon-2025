{
 "cells": [
  {
   "cell_type": "code",
   "execution_count": null,
   "metadata": {},
   "outputs": [],
   "source": [
    "# Load the training dataset\n",
    "file_path_train = \"/Users/huaijinsun/Downloads/training.xlsx\"\n",
    "df_train = pd.read_excel(file_path_train)\n",
    "\n",
    "# Load the testing dataset\n",
    "file_path_test = \"/Users/huaijinsun/Downloads/scoring.xlsx\"\n",
    "df_test = pd.read_excel(file_path_test)"
   ]
  },
  {
   "cell_type": "code",
   "execution_count": null,
   "metadata": {},
   "outputs": [],
   "source": []
  }
 ],
 "metadata": {
  "kernelspec": {
   "display_name": "base",
   "language": "python",
   "name": "python3"
  },
  "language_info": {
   "name": "python",
   "version": "3.11.0"
  }
 },
 "nbformat": 4,
 "nbformat_minor": 2
}
